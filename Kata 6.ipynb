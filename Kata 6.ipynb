{
 "cells": [
  {
   "cell_type": "markdown",
   "metadata": {},
   "source": [
    "# KATA 6\n",
    "## Ejercicio 1"
   ]
  },
  {
   "cell_type": "code",
   "execution_count": 1,
   "metadata": {},
   "outputs": [],
   "source": [
    "planets = ['Mercurio', 'Venus', 'Tierra', 'Marte', 'Júpiter', 'Saturno', 'Urano', 'Neptuno']"
   ]
  },
  {
   "cell_type": "code",
   "execution_count": 3,
   "metadata": {},
   "outputs": [
    {
     "name": "stdout",
     "output_type": "stream",
     "text": [
      "First planet is Mercurio\n",
      "Second planet is Venus\n",
      "Last planet is Neptuno\n"
     ]
    }
   ],
   "source": [
    "print('First planet is', planets[0])\n",
    "print('Second planet is', planets[1])\n",
    "print('Last planet is', planets[7])"
   ]
  },
  {
   "cell_type": "code",
   "execution_count": 4,
   "metadata": {},
   "outputs": [
    {
     "name": "stdout",
     "output_type": "stream",
     "text": [
      "Marte es también conocido como El planeta rojo\n"
     ]
    }
   ],
   "source": [
    "planets[3] = 'El planeta rojo'\n",
    "\n",
    "print('Marte es también conocido como', planets[3])"
   ]
  },
  {
   "cell_type": "code",
   "execution_count": 7,
   "metadata": {},
   "outputs": [
    {
     "name": "stdout",
     "output_type": "stream",
     "text": [
      "Hay 8 planetas en el sistema solar\n"
     ]
    }
   ],
   "source": [
    "n_planets = len(planets)\n",
    "\n",
    "print('Hay', n_planets, 'planetas en el sistema solar')"
   ]
  },
  {
   "cell_type": "code",
   "execution_count": 30,
   "metadata": {},
   "outputs": [
    {
     "name": "stdout",
     "output_type": "stream",
     "text": [
      "Hay 9 planetas en el sistema solar\n"
     ]
    }
   ],
   "source": [
    "planets.append('Plutón')\n",
    "\n",
    "n_planets = len(planets)\n",
    "\n",
    "print('Hay', n_planets, 'planetas en el sistema solar')"
   ]
  },
  {
   "cell_type": "code",
   "execution_count": 31,
   "metadata": {},
   "outputs": [
    {
     "name": "stdout",
     "output_type": "stream",
     "text": [
      "Definitivamente hay 8 planetas en el sistema solar y son: ['Mercurio', 'Venus', 'Tierra', 'El planeta rojo', 'Júpiter', 'Saturno', 'Urano', 'Neptuno']\n"
     ]
    }
   ],
   "source": [
    "planets.pop()\n",
    "\n",
    "n_planets = len(planets)\n",
    "\n",
    "print('Definitivamente hay', n_planets, 'planetas en el sistema solar y son:', planets)"
   ]
  },
  {
   "cell_type": "code",
   "execution_count": 33,
   "metadata": {},
   "outputs": [
    {
     "name": "stdout",
     "output_type": "stream",
     "text": [
      "El último planeta del sistema solar es Neptuno\n",
      "El séptimo planeta del sistema solar es Urano\n"
     ]
    }
   ],
   "source": [
    "print('El último planeta del sistema solar es', planets[-1])\n",
    "print('El séptimo planeta del sistema solar es', planets[-2])"
   ]
  },
  {
   "cell_type": "code",
   "execution_count": 38,
   "metadata": {},
   "outputs": [
    {
     "name": "stdout",
     "output_type": "stream",
     "text": [
      "La Tierra es el 3 er planeta del sistema solar.\n"
     ]
    }
   ],
   "source": [
    "ti = planets.index('Tierra')\n",
    "print('La Tierra es el', ti + 1,'er planeta del sistema solar.')"
   ]
  },
  {
   "cell_type": "code",
   "execution_count": 39,
   "metadata": {},
   "outputs": [],
   "source": [
    "g = 1.0\n",
    "gMoon = 0.166"
   ]
  },
  {
   "cell_type": "code",
   "execution_count": 40,
   "metadata": {},
   "outputs": [],
   "source": [
    "gravedad_planetas =[0.378, 0.907, 1, 0.379, 2.36, 0.916, 0.889, 1.12]"
   ]
  },
  {
   "cell_type": "code",
   "execution_count": 47,
   "metadata": {},
   "outputs": [
    {
     "name": "stdout",
     "output_type": "stream",
     "text": [
      "En la Tierra un autobús de dos pisos pesa 12650 kg.\n",
      "En Mercurio, el mismo autobús pesa 4781.7 kg.\n"
     ]
    }
   ],
   "source": [
    "bus_w = 12650   # en kilogramos\n",
    "print('En la Tierra un autobús de dos pisos pesa', bus_w, 'kg.\\nEn Mercurio, el mismo autobús pesa', bus_w * gravedad_planetas[0], 'kg.')"
   ]
  },
  {
   "cell_type": "code",
   "execution_count": 48,
   "metadata": {},
   "outputs": [
    {
     "name": "stdout",
     "output_type": "stream",
     "text": [
      "En la Tierra un autobús de dos pisos pesa 12650 kg.\n",
      "Lo mínimo que pesaría el autobús en otro planeta del sistema solar son 4781.7 kg.\n",
      "Lo máximo que podría pesar el mismo autobús en otro planeta del sistema solar son 29854.0 kg.\n"
     ]
    }
   ],
   "source": [
    "bus_w = 12650   # en kilogramos\n",
    "print('En la Tierra un autobús de dos pisos pesa', bus_w, 'kg.\\nLo mínimo que pesaría el autobús en otro planeta del sistema solar son', bus_w * min(gravedad_planetas), 'kg.\\nLo máximo que podría pesar el mismo autobús en otro planeta del sistema solar son', bus_w * max(gravedad_planetas), 'kg.')"
   ]
  },
  {
   "cell_type": "code",
   "execution_count": 49,
   "metadata": {},
   "outputs": [
    {
     "name": "stdout",
     "output_type": "stream",
     "text": [
      "['Mercurio', 'Venus']\n"
     ]
    }
   ],
   "source": [
    "p_be = planets[0:2]\n",
    "print(p_be)"
   ]
  },
  {
   "cell_type": "code",
   "execution_count": 55,
   "metadata": {},
   "outputs": [
    {
     "name": "stdout",
     "output_type": "stream",
     "text": [
      "['El planeta rojo', 'Júpiter', 'Saturno', 'Urano', 'Neptuno']\n"
     ]
    }
   ],
   "source": [
    "p_ae = planets[3:]\n",
    "print(p_ae)"
   ]
  },
  {
   "cell_type": "code",
   "execution_count": 56,
   "metadata": {},
   "outputs": [
    {
     "name": "stdout",
     "output_type": "stream",
     "text": [
      "The regular satellite moons of Jupiter are ['Metis', 'Adrastea', 'Amalthea', 'Thebe', 'Io', 'Europa', 'Ganymede', 'Callisto']\n"
     ]
    }
   ],
   "source": [
    "amalthea_group = ['Metis', 'Adrastea', 'Amalthea', 'Thebe']\n",
    "galilean_moons = ['Io', 'Europa', 'Ganymede', 'Callisto']\n",
    "\n",
    "regular_satellite_moons = amalthea_group + galilean_moons\n",
    "print('The regular satellite moons of Jupiter are', regular_satellite_moons)"
   ]
  },
  {
   "cell_type": "code",
   "execution_count": 57,
   "metadata": {},
   "outputs": [
    {
     "name": "stdout",
     "output_type": "stream",
     "text": [
      "The regular satellite moons of Jupiter are ['Adrastea', 'Amalthea', 'Callisto', 'Europa', 'Ganymede', 'Io', 'Metis', 'Thebe']\n"
     ]
    }
   ],
   "source": [
    "regular_satellite_moons.sort()\n",
    "print(\"The regular satellite moons of Jupiter are\", regular_satellite_moons)"
   ]
  },
  {
   "cell_type": "code",
   "execution_count": 58,
   "metadata": {},
   "outputs": [
    {
     "name": "stdout",
     "output_type": "stream",
     "text": [
      "The regular satellite moons of Jupiter are ['Thebe', 'Metis', 'Io', 'Ganymede', 'Europa', 'Callisto', 'Amalthea', 'Adrastea']\n"
     ]
    }
   ],
   "source": [
    "regular_satellite_moons.sort(reverse=True)\n",
    "print(\"The regular satellite moons of Jupiter are\", regular_satellite_moons)"
   ]
  }
 ],
 "metadata": {
  "interpreter": {
   "hash": "237c69eeabb11b7bce6fb580722616941d4fb39e777ba67a7ae76ee2d706bde3"
  },
  "kernelspec": {
   "display_name": "Python 3.9.10 64-bit (windows store)",
   "language": "python",
   "name": "python3"
  },
  "language_info": {
   "codemirror_mode": {
    "name": "ipython",
    "version": 3
   },
   "file_extension": ".py",
   "mimetype": "text/x-python",
   "name": "python",
   "nbconvert_exporter": "python",
   "pygments_lexer": "ipython3",
   "version": "3.9.10"
  },
  "orig_nbformat": 4
 },
 "nbformat": 4,
 "nbformat_minor": 2
}
