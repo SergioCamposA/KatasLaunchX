{
 "cells": [
  {
   "cell_type": "markdown",
   "metadata": {},
   "source": [
    "# KATA 3\n",
    "## Ejercicio 1"
   ]
  },
  {
   "cell_type": "code",
   "execution_count": 25,
   "metadata": {},
   "outputs": [
    {
     "name": "stdout",
     "output_type": "stream",
     "text": [
      "Advertencia, asteroide con velocidad de riesgo.\n"
     ]
    }
   ],
   "source": [
    "Va = 49\n",
    "\n",
    "if Va > 25:\n",
    "    print(\"Advertencia, asteroide con velocidad de riesgo.\")\n",
    "else:\n",
    "    print(\"El asteroide viaja a una velocidad segura.\")"
   ]
  },
  {
   "cell_type": "markdown",
   "metadata": {},
   "source": [
    "## Ejercicio 2"
   ]
  },
  {
   "cell_type": "code",
   "execution_count": 26,
   "metadata": {},
   "outputs": [
    {
     "name": "stdout",
     "output_type": "stream",
     "text": [
      "No hay asteroides en la atmósfera.\n"
     ]
    }
   ],
   "source": [
    "Va = 19\n",
    "\n",
    "if Va >= 20:\n",
    "    print(\"Asteroide entrando en la atmósfera a velocidad detectable, busque un rayo de luz en el cielo.\")\n",
    "elif Va == 20:\n",
    "    print(\"Asteroide entrando a la atmósfera a velocidad no detectable.\")\n",
    "else:\n",
    "    print(\"No hay asteroides en la atmósfera.\")"
   ]
  },
  {
   "cell_type": "markdown",
   "metadata": {},
   "source": [
    "## Ejercicio 3\n"
   ]
  },
  {
   "cell_type": "code",
   "execution_count": 27,
   "metadata": {},
   "outputs": [
    {
     "name": "stdout",
     "output_type": "stream",
     "text": [
      "Asteroide entrnado en la atmósfera a velocidad detectable, busque un rayo de luz en el cielo.\n",
      "Velocidad y tamaño del asteroide riesgosos.\n"
     ]
    }
   ],
   "source": [
    "Va = 25\n",
    "Ta = 40\n",
    "\n",
    "if Va >= 20:\n",
    "    print(\"Asteroide entrnado en la atmósfera a velocidad detectable, busque un rayo de luz en el cielo.\")\n",
    "if Va >= 25 and Ta >= 25:\n",
    "    print(\"Velocidad y tamaño del asteroide riesgosos.\")\n",
    "elif Va >= 25:\n",
    "    print(\"Velocidad del asteroide riesgosa.\")\n",
    "elif Ta >= 25:\n",
    "    print(\"Tamaño del asteroide riesgoso.\")\n",
    "else:\n",
    "    print(\"Asteroide sin amenaza de riesgo acercandose\")"
   ]
  }
 ],
 "metadata": {
  "interpreter": {
   "hash": "237c69eeabb11b7bce6fb580722616941d4fb39e777ba67a7ae76ee2d706bde3"
  },
  "kernelspec": {
   "display_name": "Python 3.9.10 64-bit (windows store)",
   "language": "python",
   "name": "python3"
  },
  "language_info": {
   "codemirror_mode": {
    "name": "ipython",
    "version": 3
   },
   "file_extension": ".py",
   "mimetype": "text/x-python",
   "name": "python",
   "nbconvert_exporter": "python",
   "pygments_lexer": "ipython3",
   "version": "3.9.10"
  },
  "orig_nbformat": 4
 },
 "nbformat": 4,
 "nbformat_minor": 2
}
