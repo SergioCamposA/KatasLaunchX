{
 "cells": [
  {
   "cell_type": "markdown",
   "metadata": {},
   "source": [
    "# KATA 4\n",
    "## Ejercicio 1"
   ]
  },
  {
   "cell_type": "code",
   "execution_count": 28,
   "metadata": {},
   "outputs": [
    {
     "name": "stdout",
     "output_type": "stream",
     "text": [
      "['Interesting facts about the Moon', \"The Moon is Earth's only satellite\", 'There are several interesting facts about the Moon and how it affects life here on Earth', 'On average, the Moon moves 4cm away from the Earth every year', 'This yearly drift is not significant enough.']\n"
     ]
    }
   ],
   "source": [
    "text = \"\"\"Interesting facts about the Moon. The Moon is Earth's only satellite. There are several interesting facts about the Moon and how it affects life here on Earth. On average, the Moon moves 4cm away from the Earth every year. This yearly drift is not significant enough.\"\"\"\n",
    "text = text.split('. ')\n",
    "print(text)"
   ]
  },
  {
   "cell_type": "code",
   "execution_count": 29,
   "metadata": {},
   "outputs": [],
   "source": [
    "pc = ['average', 'temperature', 'distance']"
   ]
  },
  {
   "cell_type": "code",
   "execution_count": 30,
   "metadata": {},
   "outputs": [
    {
     "name": "stdout",
     "output_type": "stream",
     "text": [
      "The Moon is Earth's only satellite\n",
      "There are several interesting facts about the Moon and how it affects life here on Earth\n",
      "This yearly drift is not significant enough.\n"
     ]
    }
   ],
   "source": [
    "for sentence in text:\n",
    "    for pc in pc:\n",
    "        if pc in sentence:\n",
    "            print(sentence)\n",
    "            break"
   ]
  },
  {
   "cell_type": "code",
   "execution_count": 32,
   "metadata": {},
   "outputs": [
    {
     "name": "stdout",
     "output_type": "stream",
     "text": [
      "Interesting facts about the Moon\n",
      "The Moon is Earth's only satellite\n",
      "There are several interesting facts about the Moon and how it affects life here on Earth\n",
      "This yearly drift is not significant enough.\n"
     ]
    }
   ],
   "source": [
    "for sentence in text:\n",
    "    for pc in pc:\n",
    "        if pc in sentence:\n",
    "            print(sentence.replace('Celsius', 'C'))"
   ]
  },
  {
   "cell_type": "markdown",
   "metadata": {},
   "source": [
    "## Ejercicio 2"
   ]
  },
  {
   "cell_type": "code",
   "execution_count": 43,
   "metadata": {},
   "outputs": [],
   "source": [
    "name = \"Moon\"\n",
    "g = 0.00162 # in kms\n",
    "planet = \"Earth\""
   ]
  },
  {
   "cell_type": "code",
   "execution_count": 64,
   "metadata": {},
   "outputs": [],
   "source": [
    "t = f\"\"\"Gravity facts about {name}\n",
    "-----------------------------------------\"\"\""
   ]
  },
  {
   "cell_type": "code",
   "execution_count": 66,
   "metadata": {},
   "outputs": [],
   "source": [
    "f = f\"\"\"Planet name: {planet}\n",
    "Gravity in {name}: {g*1000} m/s2\"\"\""
   ]
  },
  {
   "cell_type": "code",
   "execution_count": 67,
   "metadata": {},
   "outputs": [],
   "source": [
    "plantilla = f\"\"\"{t}\n",
    "{f}\"\"\""
   ]
  },
  {
   "cell_type": "code",
   "execution_count": 68,
   "metadata": {},
   "outputs": [
    {
     "name": "stdout",
     "output_type": "stream",
     "text": [
      "Gravity facts about Moon\n",
      "-----------------------------------------\n",
      "Planet name: Earth\n",
      "Gravity in Moon: 1.6199999999999999 m/s2\n"
     ]
    }
   ],
   "source": [
    "print(plantilla)"
   ]
  },
  {
   "cell_type": "code",
   "execution_count": 76,
   "metadata": {},
   "outputs": [],
   "source": [
    "name = \"Ganymede\"\n",
    "g = 0.00143 # in kms\n",
    "planet = \"Mars\""
   ]
  },
  {
   "cell_type": "code",
   "execution_count": 77,
   "metadata": {},
   "outputs": [
    {
     "name": "stdout",
     "output_type": "stream",
     "text": [
      "Planet name: Earth\n",
      "Gravity in Moon: 1.6199999999999999 m/s2\n"
     ]
    }
   ],
   "source": [
    "print(f)"
   ]
  },
  {
   "cell_type": "code",
   "execution_count": 78,
   "metadata": {},
   "outputs": [],
   "source": [
    "n_plantilla = f\"\"\"\n",
    "Gravity facts about {name}\n",
    "--------------------------------------\n",
    "Planet name: {planet}\n",
    "Gravity in {name}: {g * 1000} m/s2 \"\"\""
   ]
  },
  {
   "cell_type": "code",
   "execution_count": 79,
   "metadata": {},
   "outputs": [
    {
     "name": "stdout",
     "output_type": "stream",
     "text": [
      "\n",
      "Gravity facts about Ganymede\n",
      "--------------------------------------\n",
      "Planet name: Mars\n",
      "Gravity in Ganymede: 1.4300000000000002 m/s2 \n"
     ]
    }
   ],
   "source": [
    "print(n_plantilla.format(name=name, planet=planet, g=g))"
   ]
  }
 ],
 "metadata": {
  "interpreter": {
   "hash": "237c69eeabb11b7bce6fb580722616941d4fb39e777ba67a7ae76ee2d706bde3"
  },
  "kernelspec": {
   "display_name": "Python 3.9.10 64-bit (windows store)",
   "language": "python",
   "name": "python3"
  },
  "language_info": {
   "codemirror_mode": {
    "name": "ipython",
    "version": 3
   },
   "file_extension": ".py",
   "mimetype": "text/x-python",
   "name": "python",
   "nbconvert_exporter": "python",
   "pygments_lexer": "ipython3",
   "version": "3.9.10"
  },
  "orig_nbformat": 4
 },
 "nbformat": 4,
 "nbformat_minor": 2
}
