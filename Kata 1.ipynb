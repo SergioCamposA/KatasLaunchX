{
 "cells": [
  {
   "cell_type": "markdown",
   "metadata": {},
   "source": [
    "# KATA 1\n",
    "## Mi primer programa en Python\n",
    "\n",
    "En esta primera kata ponemos en uso los operadores de Python así como los tipos de datos y  las conversiones de estos."
   ]
  },
  {
   "cell_type": "code",
   "execution_count": 8,
   "metadata": {},
   "outputs": [
    {
     "name": "stdout",
     "output_type": "stream",
     "text": [
      "Today's date is:  2022-02-09\n"
     ]
    }
   ],
   "source": [
    "from datetime import date\n",
    "\n",
    "print(\"Today's date is: \", date.today())"
   ]
  },
  {
   "cell_type": "code",
   "execution_count": 9,
   "metadata": {},
   "outputs": [
    {
     "name": "stdout",
     "output_type": "stream",
     "text": [
      "21 parsec are 68.49275999999999 lightyears.\n"
     ]
    }
   ],
   "source": [
    "p = 21\n",
    "ly = 3.26156 * p\n",
    "\n",
    "print(str(p) + \" parsec are \" + str(ly) + \" lightyears.\")\n"
   ]
  }
 ],
 "metadata": {
  "interpreter": {
   "hash": "237c69eeabb11b7bce6fb580722616941d4fb39e777ba67a7ae76ee2d706bde3"
  },
  "kernelspec": {
   "display_name": "Python 3.9.10 64-bit (windows store)",
   "language": "python",
   "name": "python3"
  },
  "language_info": {
   "codemirror_mode": {
    "name": "ipython",
    "version": 3
   },
   "file_extension": ".py",
   "mimetype": "text/x-python",
   "name": "python",
   "nbconvert_exporter": "python",
   "pygments_lexer": "ipython3",
   "version": "3.9.10"
  },
  "orig_nbformat": 4
 },
 "nbformat": 4,
 "nbformat_minor": 2
}
