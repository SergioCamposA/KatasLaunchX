{
 "cells": [
  {
   "cell_type": "markdown",
   "metadata": {},
   "source": [
    "# KATA 9\n",
    "## Ejercicio 1"
   ]
  },
  {
   "cell_type": "code",
   "execution_count": 51,
   "metadata": {},
   "outputs": [],
   "source": [
    "def comb_report(*args):\n",
    "    total_comb = sum(args)\n",
    "    return f\"\"\"El total de combustible en la nave es de {total_comb} litros, distribuidos:\n",
    "    Tanque principal = {args[0]} litros.\n",
    "    Tanque secundario = {args[1]} litros.\n",
    "    Reserva hidrógeno = {args[2]} litros.\"\"\"\n"
   ]
  },
  {
   "cell_type": "code",
   "execution_count": 52,
   "metadata": {},
   "outputs": [
    {
     "data": {
      "text/plain": [
       "'El total de combustible en la nave es de 175 litros, distribuidos:\\n    Tanque principal = 80 litros.\\n    Tanque secundario = 75 litros.\\n    Reserva hidrógeno = 20 litros.'"
      ]
     },
     "execution_count": 52,
     "metadata": {},
     "output_type": "execute_result"
    }
   ],
   "source": [
    "comb_report(80, 75, 20)"
   ]
  },
  {
   "cell_type": "code",
   "execution_count": 41,
   "metadata": {},
   "outputs": [],
   "source": [
    "def average(*args):\n",
    "    avg = sum(args)/len(args)\n",
    "    return f'El promedio de combustible por tanque es de {avg} litros.'\n"
   ]
  },
  {
   "cell_type": "code",
   "execution_count": 42,
   "metadata": {},
   "outputs": [
    {
     "data": {
      "text/plain": [
       "'El promedio de combustible por tanque es de 61.0 litros.'"
      ]
     },
     "execution_count": 42,
     "metadata": {},
     "output_type": "execute_result"
    }
   ],
   "source": [
    "average(88, 75, 20)"
   ]
  },
  {
   "cell_type": "code",
   "execution_count": 53,
   "metadata": {},
   "outputs": [],
   "source": [
    "def comb_report(*args):\n",
    "    total_comb = sum(args)\n",
    "    avg = sum(args)/len(args)\n",
    "    return f\"\"\"El total de combustible en la nave es de {total_comb} litros, distribuidos:\n",
    "    Tanque principal: {args[0]} litros.\n",
    "    Tanque secundario: {args[1]} litros.\n",
    "    Reserva hidrógeno: {args[2]} litros. Promedio por tanque: {avg} litros.\"\"\""
   ]
  },
  {
   "cell_type": "code",
   "execution_count": 54,
   "metadata": {},
   "outputs": [
    {
     "data": {
      "text/plain": [
       "'El total de combustible en la nave es de 234 litros, distribuidos:\\n    Tanque principal: 88 litros.\\n    Tanque secundario: 76 litros.\\n    Reserva hidrógeno: 70 litros. Promedio por tanque: 78.0 litros.'"
      ]
     },
     "execution_count": 54,
     "metadata": {},
     "output_type": "execute_result"
    }
   ],
   "source": [
    "comb_report(88, 76, 70)"
   ]
  },
  {
   "cell_type": "markdown",
   "metadata": {},
   "source": [
    "## Ejercicio 2"
   ]
  },
  {
   "cell_type": "code",
   "execution_count": 62,
   "metadata": {},
   "outputs": [],
   "source": [
    "def mission_report(Pre_lanzamiento, Lanzamiento, Tiempo_vuelo, Destino, Tanque_principal, Tanque_secundario):\n",
    "    return f\"\"\"Misión a: {Destino}\n",
    "    Tiempo total de viaje: {(Pre_lanzamiento + Lanzamiento + Tiempo_vuelo)/60} horas.\n",
    "    Combustible disponible: {Tanque_principal + Tanque_secundario} litros.\"\"\""
   ]
  },
  {
   "cell_type": "code",
   "execution_count": 63,
   "metadata": {},
   "outputs": [
    {
     "data": {
      "text/plain": [
       "'Misión a: Luna\\n    Tiempo total de viaje: 72.03333333333333 horas.\\n    Combustible disponible: 12000 litros.'"
      ]
     },
     "execution_count": 63,
     "metadata": {},
     "output_type": "execute_result"
    }
   ],
   "source": [
    "mission_report(40, 82, 4200, 'Luna', 8000, 4000)"
   ]
  },
  {
   "cell_type": "code",
   "execution_count": 67,
   "metadata": {},
   "outputs": [],
   "source": [
    "def mission_report(destination, *minutos, **combustible):\n",
    "    return f\"\"\"Destino de la misión: {destination}\n",
    "    Tiempo de vuelo: {sum(minutos)/60} horas.\n",
    "    Combustible disponible: {sum(combustible.values())} litros.\"\"\""
   ]
  },
  {
   "cell_type": "code",
   "execution_count": 68,
   "metadata": {},
   "outputs": [
    {
     "data": {
      "text/plain": [
       "'Destino de la misión: Luna\\n    Tiempo de vuelo: 72.03333333333333 horas.\\n    Combustible disponible: 12000 litros.'"
      ]
     },
     "execution_count": 68,
     "metadata": {},
     "output_type": "execute_result"
    }
   ],
   "source": [
    "mission_report('Luna', 40, 82, 4200, tanque_principal = 8000, tanque_secundario = 4000)"
   ]
  },
  {
   "cell_type": "code",
   "execution_count": 75,
   "metadata": {},
   "outputs": [],
   "source": [
    "def mission_report(destination, *minutos, **combustible):\n",
    "    reporte = f\"\"\"Destino de la misión: {destination}\n",
    "    Tiempo de vuelo: {sum(minutos)/60} horas.\n",
    "    Combustible disponible: {sum(combustible.values())} litros.\"\"\"\n",
    "    for nombre, comb in combustible.items():\n",
    "        reporte += f\"\"\"\n",
    "        {nombre}: {comb} litros.\"\"\"\n",
    "        return reporte\n"
   ]
  },
  {
   "cell_type": "code",
   "execution_count": 76,
   "metadata": {},
   "outputs": [
    {
     "data": {
      "text/plain": [
       "'Destino de la misión: Luna\\n    Tiempo de vuelo: 72.03333333333333 horas.\\n    Combustible disponible: 12000 litros.\\n        Tanque_principal: 8000 litros.'"
      ]
     },
     "execution_count": 76,
     "metadata": {},
     "output_type": "execute_result"
    }
   ],
   "source": [
    "mission_report('Luna', 40, 82, 4200, Tanque_principal = 8000, Tanque_secundario = 4000)"
   ]
  }
 ],
 "metadata": {
  "interpreter": {
   "hash": "237c69eeabb11b7bce6fb580722616941d4fb39e777ba67a7ae76ee2d706bde3"
  },
  "kernelspec": {
   "display_name": "Python 3.9.10 64-bit (windows store)",
   "language": "python",
   "name": "python3"
  },
  "language_info": {
   "codemirror_mode": {
    "name": "ipython",
    "version": 3
   },
   "file_extension": ".py",
   "mimetype": "text/x-python",
   "name": "python",
   "nbconvert_exporter": "python",
   "pygments_lexer": "ipython3",
   "version": "3.9.10"
  },
  "orig_nbformat": 4
 },
 "nbformat": 4,
 "nbformat_minor": 2
}
